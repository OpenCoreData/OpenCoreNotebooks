{
 "cells": [
  {
   "cell_type": "markdown",
   "metadata": {},
   "source": [
    "## CSDCO File Assay\n",
    "Beginning of a notebook to review the files available in CSDCO holdings\n",
    "\n",
    "ToDo\n",
    "* How to make the notebook more readable by hiding as much of the code away in something like a library"
   ]
  },
  {
   "cell_type": "markdown",
   "metadata": {},
   "source": [
    "#### Breakdown globally"
   ]
  },
  {
   "cell_type": "code",
   "execution_count": 65,
   "metadata": {
    "collapsed": false
   },
   "outputs": [
    {
     "name": "stdout",
     "output_type": "stream",
     "text": [
      "[[''], [u'.pdf'], [u'.jpg'], [u'.tif'], [u'.TIF'], [u'.xls'], [u'.csv'], [u'.cml'], [u'.xlsx'], [u'.BMP'], [u'.doc'], [u'.bmp'], [u'.JPG'], [u'.bMP'], [u'.PDF'], [u'.tiff']]\n"
     ]
    },
    {
     "data": {
      "image/png": "[encoded data removed]",
      "text/plain": [
       "<matplotlib.figure.Figure at 0x111302e90>"
      ]
     },
     "metadata": {},
     "output_type": "display_data"
    }
   ],
   "source": [
    "from SPARQLWrapper import SPARQLWrapper, JSON\n",
    "from mpl_toolkits.basemap import Basemap\n",
    "import matplotlib.pyplot as plt\n",
    "import numpy as np\n",
    "%matplotlib inline\n",
    "from pylab import *\n",
    "import warnings\n",
    "import os\n",
    "warnings.filterwarnings('ignore')\n",
    "\n",
    "\n",
    "sparql = SPARQLWrapper(\"http://localhost:9999/blazegraph/namespace/ocdfx/sparql\")\n",
    "sparql.setQuery(\"\"\"\n",
    "SELECT ?uuid ?name ?location\n",
    "WHERE \n",
    "{ \n",
    "  ?uri  <http://opencoredata.org/id/voc/csdco/v1/fileuuid> ?uuid .\n",
    "  ?uri  <http://opencoredata.org/id/voc/csdco/v1/name> ?name .\n",
    "  ?uri  <http://opencoredata.org/id/voc/csdco/v1/FileLocation> ?location .\n",
    " }\n",
    "\"\"\")\n",
    "sparql.setReturnFormat(JSON)\n",
    "results = sparql.query().convert()\n",
    "\n",
    "resultset = []\n",
    "resultset.append([\"UUID\", \"Name\", \"Location\"])\n",
    "\n",
    "for result in results[\"results\"][\"bindings\"]:\n",
    "    resultset.append([result[\"uuid\"][\"value\"],result[\"name\"][\"value\"],result[\"location\"][\"value\"]])\n",
    "   \n",
    "# get all the extensions\n",
    "extensions = []\n",
    "for location in resultset:\n",
    "    filename, file_extension = os.path.splitext(location[2])\n",
    "    #print(filename)\n",
    "    extensions.append([file_extension])\n",
    "    \n",
    "used = []\n",
    "unique = [x for x in extensions if x not in used and (used.append(x) or True)]\n",
    "\n",
    "print(unique)\n",
    "\n",
    "\n",
    "# count some extensions and plot the results\n",
    "pdf,jpg,xls,csv,doc = 0,0,0,0,0\n",
    "for name in resultset:\n",
    "    if name[1].endswith('.pdf') or name[1].endswith('.PDF'):\n",
    "        pdf = pdf +1\n",
    "    if name[1].endswith('.jpg') or name[1].endswith('.JPG'):\n",
    "        jpg = jpg +1\n",
    "    if name[1].endswith('.xls') or name[1].endswith('.xlsx'):\n",
    "        xls = xls +1\n",
    "    if name[1].endswith('.csv'):\n",
    "        csv = csv +1\n",
    "    if name[1].endswith('.doc'):\n",
    "        doc = doc +1\n",
    "\n",
    "\n",
    "n = (pdf,jpg,xls,csv,doc)\n",
    "labels =[\"pdf:\" + str(pdf),\"jpg \" + str(jpg),\"xls \" + str(xls),\"csv \" + str(csv),\"doc \" + str(doc)]\n",
    "_ = plt.pie(n,labels=labels, autopct='%1.1f%%')\n",
    "#print(agemodel)"
   ]
  },
  {
   "cell_type": "markdown",
   "metadata": {},
   "source": [
    "##### Project level breakdown"
   ]
  },
  {
   "cell_type": "code",
   "execution_count": 29,
   "metadata": {
    "collapsed": false
   },
   "outputs": [
    {
     "name": "stdout",
     "output_type": "stream",
     "text": [
      "p\n",
      "OHIO-BONT14-1C-15L-1-W.pdf\n",
      "OHIO-15114-1B-9L-1-W_Darker.jpg\n",
      "OHIO-BONT14-1C-9L-1-W.pdf\n",
      "OHIO-15114-1B-12L-1-W.jpg\n",
      "OHIO-15114-1B-2L-1-W.jpg\n",
      "OHIO-15114-1D-1L-1-W.jpg\n",
      "OHIO-BONT14-1A-14L-1-W.jpg\n",
      "OHIO-BONT14-1A-6L-1-W.jpg\n",
      "OHIO-15114-1C-9L-1-W.pdf\n",
      "OHIO-BONT14-1A-10L-1-W.jpg\n"
     ]
    }
   ],
   "source": [
    "# Call on a specific project and review the available files\n",
    "# Would be cool to break it down and also provide links to each file too for someone to click on\n",
    "\n",
    "sparql = SPARQLWrapper(\"http://localhost:9999/blazegraph/namespace/ocdfx/sparql\")\n",
    "sparql.setQuery(\"\"\"\n",
    "SELECT ?name ?uuid\n",
    "WHERE \n",
    "{ \n",
    "  ?uri  <http://opencoredata.org/id/voc/csdco/v1/ProjectName> \"OHIO\" .\n",
    "  ?uri <http://opencoredata.org/id/voc/csdco/v1/name> ?name .\n",
    "  ?uri <http://opencoredata.org/id/voc/csdco/v1/fileuuid> ?uuid .\n",
    "  }\n",
    "  LIMIT 10\n",
    "\"\"\")\n",
    "sparql.setReturnFormat(JSON)\n",
    "results = sparql.query().convert()\n",
    "\n",
    "resultset = []\n",
    "resultset.append([\"p\", \"o\"])\n",
    "\n",
    "for result in results[\"results\"][\"bindings\"]:\n",
    "    resultset.append([result[\"name\"][\"value\"],result[\"uuid\"][\"value\"]])\n",
    "   \n",
    "# Can I put this in a panda data frame and do better searches and counting?\n",
    "# import pandas as pd\n",
    "# is there something like ext parser in Go in Python?\n",
    "\n",
    "for item in resultset:\n",
    "    print(item[0])   # parse out the extension and place into a count, then plot\n",
    "\n"
   ]
  },
  {
   "cell_type": "markdown",
   "metadata": {},
   "source": [
    "#### Index search\n",
    "\n",
    "Make a call to the free text index to see what results look like here.\n",
    "make a call to http://localhost:9800/ocdsearchapi/csdco/_search that needs to be POST  (?)\n",
    "\n",
    "* Do I have the lat long for these?   I could map plot the results\n",
    "\n",
    "If post is required the following is used\n",
    "\n",
    "```\n",
    "{\"size\":50,\"from\":0,\"query\":{\"conjuncts\":[{\"boost\":1,\"query\":\"Core image\"}]},\"fields\":[\"*\"],\"highlight\":{\"fields\":[\"content\"]}, \"facets\":{\"Types\":{\"field\":\"opencore:site\",\"size\":5}}}\n",
    "```"
   ]
  },
  {
   "cell_type": "code",
   "execution_count": null,
   "metadata": {
    "collapsed": true
   },
   "outputs": [],
   "source": []
  }
 ],
 "metadata": {
  "kernelspec": {
   "display_name": "Python 2",
   "language": "python",
   "name": "python2"
  },
  "language_info": {
   "codemirror_mode": {
    "name": "ipython",
    "version": 2
   },
   "file_extension": ".py",
   "mimetype": "text/x-python",
   "name": "python",
   "nbconvert_exporter": "python",
   "pygments_lexer": "ipython2",
   "version": "2.7.11"
  }
 },
 "nbformat": 4,
 "nbformat_minor": 0
}
