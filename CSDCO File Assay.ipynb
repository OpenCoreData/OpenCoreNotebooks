{
 "cells": [
  {
   "cell_type": "markdown",
   "metadata": {},
   "source": [
    "## CSDCO File Assay\n",
    "Beginning of a notebook to review the files available in CSDCO holdings\n",
    "\n",
    "ToDo\n",
    "* How to make the notebook more readable by hiding as much of the code away in something like a library"
   ]
  },
  {
   "cell_type": "markdown",
   "metadata": {},
   "source": [
    "#### Breakdown globally"
   ]
  },
  {
   "cell_type": "code",
   "execution_count": 23,
   "metadata": {
    "collapsed": false
   },
   "outputs": [
    {
     "name": "stdout",
     "output_type": "stream",
     "text": [
      "Name\n",
      "OHIO-BONT14-2B-7L-1-W.pdf\n",
      "ABS-ALLGN08-3B-1L-1.BMP\n",
      "HSPDP-CHB14-2A-71Q-1-A.pdf\n",
      "ACOW-WBL14-2B-2B-1-W.pdf\n",
      "AAFBLP-LP06-5A-3HC-1.tif\n",
      "1001-MCC11-1C-1F-1A.tif\n",
      "1001-MCC11-2E-1F-2A and B_COMPOSITE.tif\n",
      "OHIO-BONT14-1A-15L-1-W_darker.jpg\n",
      "OHIO-15114-1B-12L-1-W_TEMPLATE.pdf\n",
      "2203-TWTW15-2A-1P-1-W.pdf\n"
     ]
    },
    {
     "data": {
      "image/png": "[encoded data removed]",
      "text/plain": [
       "<matplotlib.figure.Figure at 0x10d927c90>"
      ]
     },
     "metadata": {},
     "output_type": "display_data"
    },
    {
     "data": {
      "text/plain": [
       "(([<matplotlib.patches.Wedge at 0x11195f790>,\n",
       "   <matplotlib.patches.Wedge at 0x11197b1d0>],\n",
       "  [<matplotlib.text.Text at 0x11195fd90>,\n",
       "   <matplotlib.text.Text at 0x11195fe50>]),\n",
       " None)"
      ]
     },
     "execution_count": 23,
     "metadata": {},
     "output_type": "execute_result"
    }
   ],
   "source": [
    "from SPARQLWrapper import SPARQLWrapper, JSON\n",
    "from mpl_toolkits.basemap import Basemap\n",
    "import matplotlib.pyplot as plt\n",
    "import numpy as np\n",
    "%matplotlib inline\n",
    "from pylab import *\n",
    "\n",
    "sparql = SPARQLWrapper(\"http://localhost:9999/blazegraph/namespace/ocdfx/sparql\")\n",
    "sparql.setQuery(\"\"\"\n",
    "SELECT ?uuid ?name ?location\n",
    "WHERE \n",
    "{ \n",
    "  ?uri  <http://opencoredata.org/id/voc/csdco/v1/fileuuid> ?uuid .\n",
    "  ?uri  <http://opencoredata.org/id/voc/csdco/v1/name> ?name .\n",
    "  ?uri  <http://opencoredata.org/id/voc/csdco/v1/FileLocation> ?location .\n",
    " }\n",
    "LIMIT 10\n",
    "\"\"\")\n",
    "sparql.setReturnFormat(JSON)\n",
    "results = sparql.query().convert()\n",
    "\n",
    "resultset = []\n",
    "resultset.append([\"UUID\", \"Name\", \"Location\"])\n",
    "\n",
    "for result in results[\"results\"][\"bindings\"]:\n",
    "    resultset.append([result[\"uuid\"][\"value\"],result[\"name\"][\"value\"],result[\"location\"][\"value\"]])\n",
    "   \n",
    "# Can I put this in a panda data frame and do better searches and counting?\n",
    "# import pandas as pd\n",
    "# is there something like ext parser in Go in Python?\n",
    "\n",
    "pdf = 3\n",
    "jpg = 5\n",
    "for item in resultset:\n",
    "    print(item[1])   # parse out the extension and place into a count, then plot\n",
    "\n",
    "n = (pdf,jpg)\n",
    "pie(n), show()\n",
    "#print(agemodel)"
   ]
  },
  {
   "cell_type": "markdown",
   "metadata": {},
   "source": [
    "##### Project level breakdown"
   ]
  },
  {
   "cell_type": "code",
   "execution_count": 29,
   "metadata": {
    "collapsed": false
   },
   "outputs": [
    {
     "name": "stdout",
     "output_type": "stream",
     "text": [
      "p\n",
      "OHIO-BONT14-1C-15L-1-W.pdf\n",
      "OHIO-15114-1B-9L-1-W_Darker.jpg\n",
      "OHIO-BONT14-1C-9L-1-W.pdf\n",
      "OHIO-15114-1B-12L-1-W.jpg\n",
      "OHIO-15114-1B-2L-1-W.jpg\n",
      "OHIO-15114-1D-1L-1-W.jpg\n",
      "OHIO-BONT14-1A-14L-1-W.jpg\n",
      "OHIO-BONT14-1A-6L-1-W.jpg\n",
      "OHIO-15114-1C-9L-1-W.pdf\n",
      "OHIO-BONT14-1A-10L-1-W.jpg\n"
     ]
    }
   ],
   "source": [
    "# Call on a specific project and review the available files\n",
    "# Would be cool to break it down and also provide links to each file too for someone to click on\n",
    "\n",
    "sparql = SPARQLWrapper(\"http://localhost:9999/blazegraph/namespace/ocdfx/sparql\")\n",
    "sparql.setQuery(\"\"\"\n",
    "SELECT ?name ?uuid\n",
    "WHERE \n",
    "{ \n",
    "  ?uri  <http://opencoredata.org/id/voc/csdco/v1/ProjectName> \"OHIO\" .\n",
    "  ?uri <http://opencoredata.org/id/voc/csdco/v1/name> ?name .\n",
    "  ?uri <http://opencoredata.org/id/voc/csdco/v1/fileuuid> ?uuid .\n",
    "  }\n",
    "  LIMIT 10\n",
    "\"\"\")\n",
    "sparql.setReturnFormat(JSON)\n",
    "results = sparql.query().convert()\n",
    "\n",
    "resultset = []\n",
    "resultset.append([\"p\", \"o\"])\n",
    "\n",
    "for result in results[\"results\"][\"bindings\"]:\n",
    "    resultset.append([result[\"name\"][\"value\"],result[\"uuid\"][\"value\"]])\n",
    "   \n",
    "# Can I put this in a panda data frame and do better searches and counting?\n",
    "# import pandas as pd\n",
    "# is there something like ext parser in Go in Python?\n",
    "\n",
    "for item in resultset:\n",
    "    print(item[0])   # parse out the extension and place into a count, then plot\n",
    "\n"
   ]
  },
  {
   "cell_type": "markdown",
   "metadata": {},
   "source": [
    "#### Index search\n",
    "\n",
    "Make a call to the free text index to see what results look like here.\n",
    "make a call to http://localhost:9800/ocdsearchapi/csdco/_search that needs to be POST  (?)\n",
    "\n",
    "* Do I have the lat long for these?   I could map plot the results\n",
    "\n",
    "If post is required the following is used\n",
    "\n",
    "```\n",
    "{\"size\":50,\"from\":0,\"query\":{\"conjuncts\":[{\"boost\":1,\"query\":\"Core image\"}]},\"fields\":[\"*\"],\"highlight\":{\"fields\":[\"content\"]}, \"facets\":{\"Types\":{\"field\":\"opencore:site\",\"size\":5}}}\n",
    "```"
   ]
  },
  {
   "cell_type": "code",
   "execution_count": null,
   "metadata": {
    "collapsed": true
   },
   "outputs": [],
   "source": []
  }
 ],
 "metadata": {
  "kernelspec": {
   "display_name": "Python 2",
   "language": "python",
   "name": "python2"
  },
  "language_info": {
   "codemirror_mode": {
    "name": "ipython",
    "version": 2
   },
   "file_extension": ".py",
   "mimetype": "text/x-python",
   "name": "python",
   "nbconvert_exporter": "python",
   "pygments_lexer": "ipython2",
   "version": "2.7.11"
  }
 },
 "nbformat": 4,
 "nbformat_minor": 0
}
