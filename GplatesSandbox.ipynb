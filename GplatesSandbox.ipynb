{
 "cells": [
  {
   "cell_type": "markdown",
   "metadata": {},
   "source": [
    "# GPlates Notebook \n",
    "## About\n",
    "This notebook is a simple test of the gplates services for the Gplates reconstruct_feature_collection web service.\n",
    "The first is a simple test with a set GeoJSON package so a user can inspect and review the package.  The second makes a call to an Open Core Data API to obtain the GeoJSON for a given expedition and plots it against a given age.\n",
    "\n",
    "### Documentation and References\n",
    "Docs at: http://gplates.gps.caltech.edu:8080/doc_recon/\n",
    "\n",
    "### Animation concept\n",
    "ref:  http://stackoverflow.com/questions/6686550/how-to-animate-a-time-ordered-sequence-of-matplotlib-plots \n",
    "has interactive and animation info...\n",
    "\n",
    "Next make a temp folder (https://docs.python.org/2/library/tempfile.html) and then load images into that and sequence through them.   http://stackoverflow.com/questions/6686550/how-to-animate-a-time-ordered-sequence-of-matplotlib-plots  \n",
    "\n",
    "def get_file(url):\n",
    "    file_temp = tempfile.NamedTemporaryFile()\n",
    "    file_temp.write(urllib.urlretrieve(url).read())\n",
    "    file_temp.flush()\n",
    "    return File(file_temp)\n",
    "\n"
   ]
  },
  {
   "cell_type": "code",
   "execution_count": 8,
   "metadata": {
    "collapsed": false
   },
   "outputs": [
    {
     "name": "stdout",
     "output_type": "stream",
     "text": [
      "Populating the interactive namespace from numpy and matplotlib\n"
     ]
    }
   ],
   "source": [
    "%pylab inline"
   ]
  },
  {
   "cell_type": "code",
   "execution_count": 9,
   "metadata": {
    "collapsed": true
   },
   "outputs": [],
   "source": [
    "from IPython.display import display\n",
    "from IPython.display import Image\n",
    "from lxml import etree\n",
    "import urllib\n",
    "import urllib.parse\n",
    "import urllib.request\n",
    "import json\n",
    "import tempfile\n",
    "import requests"
   ]
  },
  {
   "cell_type": "code",
   "execution_count": 10,
   "metadata": {
    "collapsed": false
   },
   "outputs": [
    {
     "data": {
      "text/html": [
       "<img src=\"http://gplates.gps.caltech.edu:8080/reconstruct_feature_collection?geologicage=90&output=img&coastlines=True&feature_collection={%22type%22:%20%22FeatureCollection%22,%20%22features%22:%20%20%20[%20%20%20%20{%20%20%20%20%22type%22:%20%22Feature%22,%20%20%20%20%20%22geometry%22:%20{%22type%22:%20%22Point%22,%20%22coordinates%22:%20[-51.0,%2038.0]},%20%20%20%20%20%22properties%22:%20%20%20%20%20%20%20{%20%20%20%20%20%20%20%20%22name%22:%20%22test_feature0%22,%20%20%20%20%20%20%20%20%20%22feature_type%22:%20%22gpml:UnclassifiedFeature%22,%20%20%20%20%20%20%20%20%20%22begin_age%22:%20%22150.0%22,%20%20%20%20%20%20%20%20%20%22end_age%22:%20%220.0%22%20%20%20%20%20%20}%20%20%20%20}%20%20]}\"/>"
      ],
      "text/plain": [
       "<IPython.core.display.Image object>"
      ]
     },
     "execution_count": 10,
     "metadata": {},
     "output_type": "execute_result"
    }
   ],
   "source": [
    "jsondata = \"\"\"\n",
    "{\n",
    "\"type\": \"FeatureCollection\", \n",
    "\"features\": \n",
    "  [\n",
    "    {\n",
    "    \"type\": \"Feature\", \n",
    "    \"geometry\": {\"type\": \"Point\", \"coordinates\": [-51.0, 38.0]}, \n",
    "    \"properties\": \n",
    "      {\n",
    "        \"name\": \"test_feature0\", \n",
    "        \"feature_type\": \"gpml:UnclassifiedFeature\", \n",
    "        \"begin_age\": \"150.0\", \n",
    "        \"end_age\": \"0.0\"\n",
    "      }\n",
    "    }\n",
    "  ]\n",
    "}\n",
    "\"\"\"\n",
    "\n",
    "jsonsub = jsondata.replace(\"\\n\", \"\").replace(\" \", \"%20\").replace(\"\\\"\", \"%22\")\n",
    "\n",
    "data = {}\n",
    "data['geologicage'] = '90'\n",
    "data['output'] = 'img'\n",
    "data['coastlines'] = 'True'\n",
    "\n",
    "url_values = urllib.parse.urlencode(data)\n",
    "url=\"http://gplates.gps.caltech.edu:8080/reconstruct_feature_collection\"\n",
    "full_url = url + '?' + url_values + '&feature_collection=' + jsonsub\n",
    "\n",
    "Image(url=full_url)"
   ]
  },
  {
   "cell_type": "markdown",
   "metadata": {},
   "source": [
    "### Service call test\n",
    "The following cell makes a call to an Open Core Data spatial service.  This service returns GeoJSON that complies with the GPlates spec (see documentation).  It is then sent to the GPlates service for map generation.  "
   ]
  },
  {
   "cell_type": "code",
   "execution_count": 11,
   "metadata": {
    "collapsed": false
   },
   "outputs": [
    {
     "data": {
      "text/html": [
       "<img src=\"http://gplates.gps.caltech.edu:8080/reconstruct_feature_collection?geologicage=110&output=img&coastlines=True&feature_collection={%22type%22:%22FeatureCollection%22,%22features%22:[{%22type%22:%22Feature%22,%22geometry%22:{%22type%22:%22Point%22,%22coordinates%22:[-54.54,9.27]},%22properties%22:{%22Hole%22:%22B%22,%22Site%22:%221260%22,%22URL%22:%22http://opencoredata.org/id/expedition/207/1260/B%22,%22begin_age%22:%22114.60%22,%22dataset0%22:%22207_1260A_JanusCoreImage_YIBDLNtZ.csv%22,%22dataset1%22:%22207_1260B_JanusCoreImage_BaDNfQFy.csv%22,%22dataset10%22:%22207_1260A_JanusPrimeDataImage_fCpcRdMo.csv%22,%22dataset11%22:%22207_1260A_JanusPws3Section_qOYjAjqq.csv%22,%22dataset12%22:%22207_1260B_JanusPws3Section_xinLMISX.csv%22,%22dataset13%22:%22207_1260B_JanusRscSection_RKTvjKZv.csv%22,%22dataset14%22:%22207_1260A_JanusSample_sqPwZYIt.csv%22,%22dataset15%22:%22207_1260B_JanusSample_pFTFvKZP.csv%22,%22dataset16%22:%22207_1260A_JanusShearStrengthAvs_PLsViXws.csv%22,%22dataset17%22:%22207_1260B_JanusSmearSlide_hfRCiyIN.csv%22,%22dataset18%22:%22207_1260A_JanusThinSectionImage_weDKoCBq.csv%22,%22dataset19%22:%22207_1260B_JanusThinSectionImage_LMiJJzSL.csv%22,%22dataset2%22:%22207_1260B_JanusCoreSummary_hWSGOUSn.csv%22,%22dataset20%22:%22207_1260A_JanusVcdImage_wzctcsRW.csv%22,%22dataset3%22:%22207_1260B_JanusCryomagSection_xFPaxkcY.csv%22,%22dataset4%22:%22207_1260B_JanusGraSection_iHqxvrfH.csv%22,%22dataset5%22:%22207_1260A_JanusMadSection_yDtQHiUj.csv%22,%22dataset6%22:%22207_1260B_JanusMslSection_JIIgUiit.csv%22,%22dataset7%22:%22207_1260B_JanusNgrSection_KCnRsKUt.csv%22,%22dataset8%22:%22207_1260B_JanusPaleoOccurrence_mZVMUwth.csv%22,%22dataset9%22:%22207_1260B_JanusPaleoSample_FNtqSAeB.csv%22,%22end_age%22:%220.0%22,%22feature_type%22:%22gpml:UnclassifiedFeature%22,%22name%22:%22http://opencoredata.org/id/expedition/207/1260/B%22,%22popupContent%22:%22http://opencoredata.org/id/expedition/207/1260/B%22}},{%22type%22:%22Feature%22,%22geometry%22:{%22type%22:%22Point%22,%22coordinates%22:[-54.54,9.27]},%22properties%22:{%22Hole%22:%22A%22,%22Site%22:%221260%22,%22URL%22:%22http://opencoredata.org/id/expedition/207/1260/A%22,%22begin_age%22:%22111.83%22,%22dataset0%22:%22207_1260A_JanusCoreImage_YIBDLNtZ.csv%22,%22dataset1%22:%22207_1260B_JanusCoreImage_BaDNfQFy.csv%22,%22dataset10%22:%22207_1260A_JanusPrimeDataImage_fCpcRdMo.csv%22,%22dataset11%22:%22207_1260A_JanusPws3Section_qOYjAjqq.csv%22,%22dataset12%22:%22207_1260B_JanusPws3Section_xinLMISX.csv%22,%22dataset13%22:%22207_1260B_JanusRscSection_RKTvjKZv.csv%22,%22dataset14%22:%22207_1260A_JanusSample_sqPwZYIt.csv%22,%22dataset15%22:%22207_1260B_JanusSample_pFTFvKZP.csv%22,%22dataset16%22:%22207_1260A_JanusShearStrengthAvs_PLsViXws.csv%22,%22dataset17%22:%22207_1260B_JanusSmearSlide_hfRCiyIN.csv%22,%22dataset18%22:%22207_1260A_JanusThinSectionImage_weDKoCBq.csv%22,%22dataset19%22:%22207_1260B_JanusThinSectionImage_LMiJJzSL.csv%22,%22dataset2%22:%22207_1260B_JanusCoreSummary_hWSGOUSn.csv%22,%22dataset20%22:%22207_1260A_JanusVcdImage_wzctcsRW.csv%22,%22dataset3%22:%22207_1260B_JanusCryomagSection_xFPaxkcY.csv%22,%22dataset4%22:%22207_1260B_JanusGraSection_iHqxvrfH.csv%22,%22dataset5%22:%22207_1260A_JanusMadSection_yDtQHiUj.csv%22,%22dataset6%22:%22207_1260B_JanusMslSection_JIIgUiit.csv%22,%22dataset7%22:%22207_1260B_JanusNgrSection_KCnRsKUt.csv%22,%22dataset8%22:%22207_1260B_JanusPaleoOccurrence_mZVMUwth.csv%22,%22dataset9%22:%22207_1260B_JanusPaleoSample_FNtqSAeB.csv%22,%22end_age%22:%220.0%22,%22feature_type%22:%22gpml:UnclassifiedFeature%22,%22name%22:%22http://opencoredata.org/id/expedition/207/1260/A%22,%22popupContent%22:%22http://opencoredata.org/id/expedition/207/1260/A%22}},{%22type%22:%22Feature%22,%22geometry%22:{%22type%22:%22Point%22,%22coordinates%22:[-54.54,9.27]},%22properties%22:{%22Hole%22:%22B%22,%22Site%22:%221260%22,%22URL%22:%22http://opencoredata.org/id/expedition/207/1260/B%22,%22begin_age%22:%22114.60%22,%22dataset0%22:%22207_1260A_JanusCoreImage_YIBDLNtZ.csv%22,%22dataset1%22:%22207_1260B_JanusCoreImage_BaDNfQFy.csv%22,%22dataset10%22:%22207_1260A_JanusPrimeDataImage_fCpcRdMo.csv%22,%22dataset11%22:%22207_1260A_JanusPws3Section_qOYjAjqq.csv%22,%22dataset12%22:%22207_1260B_JanusPws3Section_xinLMISX.csv%22,%22dataset13%22:%22207_1260B_JanusRscSection_RKTvjKZv.csv%22,%22dataset14%22:%22207_1260A_JanusSample_sqPwZYIt.csv%22,%22dataset15%22:%22207_1260B_JanusSample_pFTFvKZP.csv%22,%22dataset16%22:%22207_1260A_JanusShearStrengthAvs_PLsViXws.csv%22,%22dataset17%22:%22207_1260B_JanusSmearSlide_hfRCiyIN.csv%22,%22dataset18%22:%22207_1260A_JanusThinSectionImage_weDKoCBq.csv%22,%22dataset19%22:%22207_1260B_JanusThinSectionImage_LMiJJzSL.csv%22,%22dataset2%22:%22207_1260B_JanusCoreSummary_hWSGOUSn.csv%22,%22dataset20%22:%22207_1260A_JanusVcdImage_wzctcsRW.csv%22,%22dataset3%22:%22207_1260B_JanusCryomagSection_xFPaxkcY.csv%22,%22dataset4%22:%22207_1260B_JanusGraSection_iHqxvrfH.csv%22,%22dataset5%22:%22207_1260A_JanusMadSection_yDtQHiUj.csv%22,%22dataset6%22:%22207_1260B_JanusMslSection_JIIgUiit.csv%22,%22dataset7%22:%22207_1260B_JanusNgrSection_KCnRsKUt.csv%22,%22dataset8%22:%22207_1260B_JanusPaleoOccurrence_mZVMUwth.csv%22,%22dataset9%22:%22207_1260B_JanusPaleoSample_FNtqSAeB.csv%22,%22end_age%22:%220.0%22,%22feature_type%22:%22gpml:UnclassifiedFeature%22,%22name%22:%22http://opencoredata.org/id/expedition/207/1260/B%22,%22popupContent%22:%22http://opencoredata.org/id/expedition/207/1260/B%22}}]}\"/>"
      ],
      "text/plain": [
       "<IPython.core.display.Image object>"
      ]
     },
     "execution_count": 11,
     "metadata": {},
     "output_type": "execute_result"
    }
   ],
   "source": [
    "req = urllib.request.Request(\"http://opencoredata.org/api/v1/spatial/expedition/207/1260\")\n",
    "with urllib.request.urlopen(req) as response:\n",
    "   jsondata = response.read().decode(response.headers.get_content_charset())\n",
    "\n",
    "jsonsub = jsondata.replace(\"\\n\", \"\").replace(\" \", \"%20\").replace(\"\\\"\", \"%22\")\n",
    "\n",
    "#print(jsonsub)\n",
    "\n",
    "data = {}\n",
    "data['geologicage'] = '110'\n",
    "data['output'] = 'img'\n",
    "data['coastlines'] = 'True'\n",
    "\n",
    "url_values = urllib.parse.urlencode(data)\n",
    "url=\"http://gplates.gps.caltech.edu:8080/reconstruct_feature_collection\"\n",
    "full_url = url + '?' + url_values + '&feature_collection=' + jsonsub\n",
    "\n",
    "#print(full_url)\n",
    "\n",
    "Image(url=full_url)\n"
   ]
  },
  {
   "cell_type": "code",
   "execution_count": null,
   "metadata": {
    "collapsed": true
   },
   "outputs": [],
   "source": []
  }
 ],
 "metadata": {
  "kernelspec": {
   "display_name": "Python 3",
   "language": "python",
   "name": "python3"
  },
  "language_info": {
   "codemirror_mode": {
    "name": "ipython",
    "version": 3
   },
   "file_extension": ".py",
   "mimetype": "text/x-python",
   "name": "python",
   "nbconvert_exporter": "python",
   "pygments_lexer": "ipython3",
   "version": "3.5.1"
  }
 },
 "nbformat": 4,
 "nbformat_minor": 0
}
