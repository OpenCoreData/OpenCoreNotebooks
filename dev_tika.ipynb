{
 "cells": [
  {
   "cell_type": "markdown",
   "metadata": {},
   "source": [
    "## Exploration of Tika to help develop metadata for CSDCO files.  \n",
    "An exploration inspired by Chris Mattmann (http://sunset.usc.edu/~mattmann/) 2016 Summer ESIP talk.  GitHub repo for python interface to Tika at:  https://github.com/chrismattmann/tika-python"
   ]
  },
  {
   "cell_type": "markdown",
   "metadata": {},
   "source": [
    "### Notes and Questions\n",
    "\n",
    "* Is something like the GeoTopicParser (http://wiki.apache.org/tika/GeoTopicParser) what I am hoping to eventually get to?\n",
    "* To first order though just some basic metadata beyond DC stuff would be nice. \n",
    "* Space is cheap, I could still index the content (non stop words)\n",
    "\n",
    "The file OCD_METADATA.xls that Pat made is really what we would want to train a OpenNLP model on.\n",
    "\n",
    "#### Follow up notes\n",
    "* Really just need to modify this to loop files.\n",
    "* "
   ]
  },
  {
   "cell_type": "code",
   "execution_count": 1,
   "metadata": {
    "collapsed": false
   },
   "outputs": [
    {
     "name": "stderr",
     "output_type": "stream",
     "text": [
      "2016-08-11 12:24:08,078 [MainThread  ] [INFO ]  Retrieving http://search.maven.org/remotecontent?filepath=org/apache/tika/tika-server/1.13/tika-server-1.13.jar to /var/folders/z2/jwhrgxq50sv0p6wh3cr83401w_7k31/T/tika-server.jar.\n",
      "2016-08-11 12:25:44,653 [MainThread  ] [INFO ]  Retrieving http://search.maven.org/remotecontent?filepath=org/apache/tika/tika-server/1.13/tika-server-1.13.jar.md5 to /var/folders/z2/jwhrgxq50sv0p6wh3cr83401w_7k31/T/tika-server.jar.md5.\n",
      "2016-08-11 12:25:54,323 [MainThread  ] [INFO ]  Starting new HTTP connection (1): localhost\n"
     ]
    },
    {
     "name": "stdout",
     "output_type": "stream",
     "text": [
      "{u'meta:author': u'Patrick Diver', u'meta:last-author': u'Patrick Diver', u'Author': u'Patrick Diver', u'meta:save-date': u'2016-06-24T20:26:39Z', u'Last-Modified': u'2016-06-24T20:26:39Z', u'dcterms:created': u'2016-06-24T18:22:26Z', u'resourceName': u'OCD_METADATA.xls', u'meta:print-date': u'1601-01-01T00:00:00Z', u'X-Parsed-By': [u'org.apache.tika.parser.DefaultParser', u'org.apache.tika.parser.microsoft.OfficeParser'], u'dc:creator': u'Patrick Diver', u'creator': u'Patrick Diver', u'Last-Author': u'Patrick Diver', u'Creation-Date': u'2016-06-24T18:22:26Z', u'Revision-Number': u'4', u'cp:revision': u'4', u'Edit-Time': u'8890000000', u'Last-Save-Date': u'2016-06-24T20:26:39Z', u'X-TIKA:parse_time_millis': u'829', u'date': u'2016-06-24T20:26:39Z', u'modified': u'2016-06-24T20:26:39Z', u'meta:creation-date': u'2016-06-24T18:22:26Z', u'Last-Printed': u'1601-01-01T00:00:00Z', u'dcterms:modified': u'2016-06-24T20:26:39Z', u'Content-Type': u'application/vnd.ms-excel'}\n"
     ]
    }
   ],
   "source": [
    "#!/usr/bin/env python\n",
    "import tika\n",
    "tika.initVM()\n",
    "from tika import parser\n",
    "parsed = parser.from_file('/Users/dfils/src/python/iPython/OpenCoreNotebooks/support_files/OCD_METADATA.xls')\n",
    "print(parsed[\"metadata\"])\n",
    "# print(parsed[\"content\"])  # print contents (not needed at this time)"
   ]
  },
  {
   "cell_type": "code",
   "execution_count": null,
   "metadata": {
    "collapsed": true
   },
   "outputs": [],
   "source": []
  }
 ],
 "metadata": {
  "kernelspec": {
   "display_name": "Python 2",
   "language": "python",
   "name": "python2"
  },
  "language_info": {
   "codemirror_mode": {
    "name": "ipython",
    "version": 2
   },
   "file_extension": ".py",
   "mimetype": "text/x-python",
   "name": "python",
   "nbconvert_exporter": "python",
   "pygments_lexer": "ipython2",
   "version": "2.7.11"
  }
 },
 "nbformat": 4,
 "nbformat_minor": 0
}
